{
 "cells": [
  {
   "cell_type": "markdown",
   "source": [
    "![Logo ITESO](https://www.iteso.mx/image/journal/article?img_id=32346729&t=1662138449889)\n",
    "# Detección de Neumonía con CNN\n",
    "*Proyecto de Ciencia de Datos - O2022_MAF3660P*\n",
    "\n",
    "*[Link al Repositorio de Github](https://github.com/if722399/Proyecto-de-Ciencia-de-Datos)*\n",
    "\n",
    "\n",
    "Integrantes:\n",
    "- Haces López, José Manuel - 734759 - Ing. Y Ciencia de Datos\n",
    "- Navarro Silva, José Tonatiuh - 722399 - Ing. Financiera\n",
    "____________________\n",
    "\n",
    "## 1. Introducción\n",
    "- A lo largo de este proyecto se buscará realizar una arquitectura de Redes Neuronales Convolucionales o CNN por sus siglas en inglés. Lo que se busca con ella es poder interpretar una radiografía pulmonar, y de esa forma poder reconocer patrones de Neumonía en los mismos.\n",
    "- Se usará una base de que cuenta con casi 6,000 imágenes de pulmones, las cuales se identifican en 2 clases, Normal o no infectado y Pneumonia o infectado (se muestran dos tipos de Neumonía, por bacteria o por virus).\n",
    "  - Los datos se obtuvieron de Kaggle, del usuario 'Alif Rahman'.\n",
    "  - [Link al Dataset](https://www.kaggle.com/datasets/alifrahman/chestxraydataset?resource=download)\n",
    "\n",
    "## 2. Antecedentes\n",
    "- La Clinica Mayo define la Neumonía como, \"La neumonía es una infección que inflama los sacos aéreos de uno o ambos pulmones. Los sacos aéreos se pueden llenar de líquido o pus (...), lo que provoca tos con flema o pus, fiebre, escalofríos y dificultad para respirar. (...). La neumonía puede variar en gravedad desde suave a potencialmente mortal. Es más grave en bebés y niños pequeños, personas mayores a 65 años, y personas con problemas de salud o sistemas inmunitarios debilitados.\" (Neumonía - Síntomas y causas - Mayo Clinic, 2021)\n",
    "\n",
    "## 3. Objetivos\n",
    "- Conseguir suficientes imágenes para poder realizar el entrenamiento de manera adecuada.\n",
    "- Realizar una arquitectura de CNN capaz de identificar de manera eficiente los patrones de Neumonía.\n",
    "- Crear una API para poder ejecutar nuestro modelo como un Servicio.\n",
    "- Crear una imagen de Docker para poder ejecutarlo en diferentes instancias.\n",
    "- Subirlo a la nube para poder ejecutarlo de manera remota.\n",
    "\n",
    "\n",
    "## 4. Planteamiento del problema\n",
    "- Se tienen registros del año 460 a.C. en donde Hipócrates describe los síntomas de la enfermedad, lo que nos da a entender que este estado de salud lleva ya varios milenios con nosotros; sin embargo, no la hemos podido erradicar del todo.\n",
    "- La Neumonía afecta a todas las edades; sin embargo, tenemos dos grupos de riesgo, los niños pequeños y adultos mayores. Lo que ocasiona muchas muertes por esta enfermedad, según Statita (2022) en México en el año de 2020 murieron alrededor de 56,899 personas por Neumonía. Es por ello que mientras más rápido se puedan encontrar indicios de la enfermedad es mucho mejor, para así poder realizar un buen tratamiento de esta.\n",
    "\n",
    "\n",
    "## 5. EDA"
   ],
   "metadata": {
    "collapsed": false
   }
  },
  {
   "cell_type": "markdown",
   "metadata": {},
   "source": [
    "### 5.0. Librerias"
   ]
  },
  {
   "cell_type": "code",
   "execution_count": 1,
   "metadata": {},
   "outputs": [],
   "source": [
    "import main as mn\n",
    "import numpy as np\n",
    "import matplotlib.pyplot as plt\n",
    "plt.style.use('ggplot')"
   ]
  },
  {
   "cell_type": "markdown",
   "metadata": {},
   "source": [
    "### 5.1. Balance Inicial de clases"
   ]
  },
  {
   "cell_type": "code",
   "execution_count": 2,
   "metadata": {},
   "outputs": [
    {
     "data": {
      "text/plain": [
       "{'test_neumonia': 390,\n",
       " 'test_normal': 234,\n",
       " 'train_neumonia': 3875,\n",
       " 'train_normal': 1341}"
      ]
     },
     "execution_count": 2,
     "metadata": {},
     "output_type": "execute_result"
    }
   ],
   "source": [
    "mn.sets"
   ]
  },
  {
   "cell_type": "code",
   "execution_count": 4,
   "metadata": {},
   "outputs": [
    {
     "data": {
      "image/png": "[encoded data removed]",
      "text/plain": [
       "<Figure size 720x504 with 1 Axes>"
      ]
     },
     "metadata": {},
     "output_type": "display_data"
    }
   ],
   "source": [
    "plt.figure(figsize=(10,7))\n",
    "[plt.bar(key,value) for (key,value) in zip(mn.sets.keys(),mn.sets.values())];"
   ]
  },
  {
   "cell_type": "code",
   "execution_count": 5,
   "metadata": {},
   "outputs": [
    {
     "name": "stdout",
     "output_type": "stream",
     "text": [
      "El set de train representa el 89.32% del total de nuestras imágenes y el set de test representa el 10.68%\n"
     ]
    }
   ],
   "source": [
    "print(f\"El set de train representa el {mn.per_train}% del total de nuestras imágenes y el set de test representa el \\\n",
    "{np.round(100-mn.per_train,2)}%\")"
   ]
  },
  {
   "cell_type": "markdown",
   "metadata": {},
   "source": [
    "#### 5.1.1. Balance inicial en el set de train"
   ]
  },
  {
   "cell_type": "code",
   "execution_count": 6,
   "metadata": {},
   "outputs": [
    {
     "name": "stdout",
     "output_type": "stream",
     "text": [
      "En el set de train las imagenes donde se presenta la neumania representa el 74.29% y los casos donde el pulmón está bien representan el 25.71%\n"
     ]
    }
   ],
   "source": [
    "print(f\"En el set de train las imagenes donde se presenta la neumania representa el {mn.train_neumonia_prop}% y los casos donde el pulmón está bien representan el {np.round(100-mn.train_neumonia_prop,4)}%\")"
   ]
  },
  {
   "cell_type": "markdown",
   "metadata": {},
   "source": [
    "#### 5.1.2. Balance inicial en el set de test"
   ]
  },
  {
   "cell_type": "code",
   "execution_count": 8,
   "metadata": {},
   "outputs": [
    {
     "name": "stdout",
     "output_type": "stream",
     "text": [
      "En el set de train las imagenes donde se presenta la neumania representa el 62.5% y los casos donde el pulmón está bien representan el 37.5%\n"
     ]
    }
   ],
   "source": [
    "print(f\"En el set de train las imagenes donde se presenta la neumania representa el {mn.test_neumonia_prop}% y los casos donde el pulmón está bien representan el {np.round(100-mn.test_neumonia_prop,4)}%\")"
   ]
  },
  {
   "cell_type": "markdown",
   "source": [
    "![Ejemplos](https://www.googleapis.com/download/storage/v1/b/kaggle-user-content/o/inbox%2F4298011%2F092cd8598575c60c27fedad4d7998e66%2FjZqpV51.png?generation=1600531874588151&alt=media)\n",
    "\n",
    "## 6. Dataset\n",
    "- El dataset cuenta con 5,840 radiografías pulmonares, las cuales se dividen en 2 clases:\n",
    "  - Normal\n",
    "  - Pneumonia (infectado)\n",
    "- El archivo general se encuentra en la carpeta 'data' bajo el nombre de 'chest_xray.zip', el cual tiene un tamaño de 1.13 GB.\n",
    "- El archivo se dividio en 3 directorios con las siguientes jerarquías:\n",
    "  - Train (97% de las imágenes - 5675)\n",
    "    - Normal\n",
    "    - Pneumonia\n",
    "  - Test (3% de las imágenes - 165)\n",
    "    - Normal\n",
    "    - Pneumonia\n",
    "\n",
    "\n",
    "## 7. Dataset final a trabajar\n",
    "- El dataset a trabajar serán las imágenes que se encuentran en los directorios que se mencionaron anteriormente (train y test)."
   ],
   "metadata": {
    "collapsed": false
   }
  }
 ],
 "metadata": {
  "kernelspec": {
   "display_name": "Python 3 (ipykernel)",
   "language": "python",
   "name": "python3"
  },
  "language_info": {
   "codemirror_mode": {
    "name": "ipython",
    "version": 3
   },
   "file_extension": ".py",
   "mimetype": "text/x-python",
   "name": "python",
   "nbconvert_exporter": "python",
   "pygments_lexer": "ipython3",
   "version": "3.8.3"
  },
  "vscode": {
   "interpreter": {
    "hash": "eae8fb93f0afa35d1b7734cf99937b4b8f604b059245bf7179f71469e5b0c70a"
   }
  }
 },
 "nbformat": 4,
 "nbformat_minor": 2
}
